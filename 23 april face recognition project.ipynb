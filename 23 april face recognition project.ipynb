{
 "cells": [
  {
   "cell_type": "code",
   "execution_count": null,
   "metadata": {},
   "outputs": [],
   "source": [
    "import numpy\n",
    "import cv2\n",
    "import matplotlib.pyplot as plt\n",
    "import matplotlib.image as im"
   ]
  },
  {
   "cell_type": "code",
   "execution_count": null,
   "metadata": {},
   "outputs": [],
   "source": [
    "import os\n",
    "folder = r\"D:\\part3\"\n",
    "files = os.listdir(folder)\n",
    "files"
   ]
  },
  {
   "cell_type": "code",
   "execution_count": null,
   "metadata": {},
   "outputs": [],
   "source": [
    "fd = cv2.CascadeClassifier(  r\"C:\\Users\\h00236409\\kaizen_training\\kaizen\\haarcascade_frontalface_alt.xml\"  )\n",
    "def get_face(path):\n",
    "    img=cv2.imread(path)\n",
    "    corners = fd.detectMultiScale(img,1.3,4)\n",
    "    if len(corners)==0:\n",
    "        return None,None \n",
    "    else:\n",
    "        (x,y,w,h)= corners[0]\n",
    "        img = img[x:x+h,y:y+w]   # cropping the image and resize them,\n",
    "        img = cv2.resize(img,(100,100))\n",
    "        return (x,y,w,h),img"
   ]
  },
  {
   "cell_type": "code",
   "execution_count": null,
   "metadata": {},
   "outputs": [],
   "source": [
    "trainimg = []\n",
    "trainlb_age = []\n",
    "trainlb_gender = []\n",
    "trainlb_race = []\n",
    "for file in files:\n",
    "    if \".jpg\" in file:\n",
    "        path = folder+'\\\\'+file \n",
    "        details = file.split(\"_\")\n",
    "        age = details[0]\n",
    "        gender = details[1]\n",
    "        race = details[2]\n",
    "        if int(age)>18 and int(age)<50:\n",
    "            try:\n",
    "                corner,img = get_face(path)\n",
    "                if corner !=None:\n",
    "                    trainimg.append(img)\n",
    "                    trainlb_age.append(int(age))\n",
    "                    trainlb_gender.append(int(gender))\n",
    "                    trainlb_race.append(race)\n",
    "            except :\n",
    "                print(\"failed\")"
   ]
  },
  {
   "cell_type": "code",
   "execution_count": null,
   "metadata": {},
   "outputs": [],
   "source": []
  },
  {
   "cell_type": "code",
   "execution_count": null,
   "metadata": {},
   "outputs": [],
   "source": [
    "trainimg = numpy.array(trainimg)\n",
    "trainlb_age = numpy.array(trainlb_age).reshape(1893,1) \n",
    "trainlb_gender = numpy.array(trainlb_gender).reshape(1893,1) \n",
    "trainlb_race = numpy.array(trainlb_race)\n",
    "\n",
    "trianimg = trainimg/255\n",
    "\n",
    "#reshape the image data \n",
    "trainimg = trainimg.reshape(1893,100,100,3)  \n",
    "\n",
    "from sklearn.preprocessing import OneHotEncoder\n",
    "trainlb_race = OneHotEncoder().fit_transform(trainlb_race.reshape(1893,1)).toarray() # should excute once والا بيطلع ايرور\n",
    "\n",
    "print(trainimg.shape)\n",
    "print(trainlb_age.shape)\n",
    "print(trainlb_gender.shape)\n",
    "print(trainlb_race.shape)\n",
    "\n",
    "\n"
   ]
  },
  {
   "cell_type": "code",
   "execution_count": null,
   "metadata": {},
   "outputs": [],
   "source": [
    "from sklearn.metrics import mean_squared_error\n"
   ]
  },
  {
   "cell_type": "markdown",
   "metadata": {},
   "source": [
    "# NN_Age"
   ]
  },
  {
   "cell_type": "code",
   "execution_count": null,
   "metadata": {},
   "outputs": [],
   "source": [
    "# features extraction for images\n",
    "# model \n",
    "# building the model\n",
    "from keras import models, layers \n",
    "model = models.Sequential()\n",
    "\n",
    "# add first convolutional and maxpoling layer\n",
    "model.add(layers.Conv2D(filters=20,kernel_size=(3,3),activation='relu',input_shape=(100,100,3))) # بدهاش تزبط يا زلمه\n",
    "model.add(layers.MaxPooling2D(pool_size=(2,2)))\n",
    "\n",
    "# add the second convolutional layer\n",
    "model.add(layers.Conv2D(filters=40,kernel_size=(3,3),activation='relu'))\n",
    "model.add(layers.MaxPooling2D(pool_size=(2,2)))\n",
    "\n",
    "# add the flatten layer\n",
    "model.add(layers.Flatten())\n",
    "model.add(layers.Dense(20,activation='relu'))\n",
    "model.add(layers.Dense(1))"
   ]
  },
  {
   "cell_type": "code",
   "execution_count": null,
   "metadata": {},
   "outputs": [],
   "source": [
    "model.compile(optimizer='adam',loss='mean_squared_error')"
   ]
  },
  {
   "cell_type": "code",
   "execution_count": null,
   "metadata": {},
   "outputs": [],
   "source": [
    "model.fit(trianimg,trainlb_age,epochs=20,batch_size=50,shuffle =True, verbose = True)"
   ]
  },
  {
   "cell_type": "code",
   "execution_count": null,
   "metadata": {},
   "outputs": [],
   "source": [
    "model.save(\"agemodel.h5\")"
   ]
  },
  {
   "cell_type": "markdown",
   "metadata": {},
   "source": [
    "# NN_Gender"
   ]
  },
  {
   "cell_type": "code",
   "execution_count": null,
   "metadata": {},
   "outputs": [],
   "source": [
    "print (trainlb_gender)"
   ]
  },
  {
   "cell_type": "code",
   "execution_count": null,
   "metadata": {},
   "outputs": [],
   "source": [
    "# building the model\n",
    "from keras import models, layers \n",
    "model2 = models.Sequential()\n",
    "\n",
    "# add first convolutional and maxpoling layer\n",
    "model2.add(layers.Conv2D(filters=20,kernel_size=(3,3),activation='relu',input_shape=(100,100,3)))\n",
    "model2.add(layers.MaxPooling2D(pool_size=(2,2)))\n",
    "\n",
    "# add the second convolutional layer\n",
    "model2.add(layers.Conv2D(filters=40,kernel_size=(3,3),activation='relu'))\n",
    "model2.add(layers.MaxPooling2D(pool_size=(2,2)))\n",
    "\n",
    "# add the flatten layer\n",
    "model2.add(layers.Flatten())\n",
    "model2.add(layers.Dense(20,activation='relu'))\n",
    "model2.add(layers.Dense(1,activation= 'sigmoid')) # how many nurons"
   ]
  },
  {
   "cell_type": "code",
   "execution_count": null,
   "metadata": {},
   "outputs": [],
   "source": [
    "model2.compile(optimizer='adam',loss='binary_crossentropy',metrics = ['accuracy'])"
   ]
  },
  {
   "cell_type": "code",
   "execution_count": null,
   "metadata": {},
   "outputs": [],
   "source": [
    "model2.fit(trianimg,trainlb_gender,epochs=10,batch_size=50,shuffle =True, verbose = True)"
   ]
  },
  {
   "cell_type": "code",
   "execution_count": null,
   "metadata": {},
   "outputs": [],
   "source": [
    "model2.save(\"gendermodel.h5\")"
   ]
  },
  {
   "cell_type": "markdown",
   "metadata": {},
   "source": [
    "# NN_Race"
   ]
  },
  {
   "cell_type": "code",
   "execution_count": null,
   "metadata": {},
   "outputs": [],
   "source": [
    "print(trainimg.shape)\n",
    "print(trainlb_race.shape)"
   ]
  },
  {
   "cell_type": "code",
   "execution_count": null,
   "metadata": {},
   "outputs": [],
   "source": [
    "# building the model\n",
    "from keras import models, layers \n",
    "model3 = models.Sequential()\n",
    "\n",
    "# add first convolutional and maxpoling layer\n",
    "model3.add(layers.Conv2D(filters=20,kernel_size=(3,3),activation='relu',input_shape=(100,100,3)))\n",
    "model3.add(layers.MaxPooling2D(pool_size=(2,2)))\n",
    "\n",
    "# add the second convolutional layer\n",
    "model3.add(layers.Conv2D(filters=40,kernel_size=(3,3),activation='relu'))\n",
    "model3.add(layers.MaxPooling2D(pool_size=(2,2)))\n",
    "\n",
    "# add the flatten layer\n",
    "model3.add(layers.Flatten())\n",
    "model3.add(layers.Dense(20,activation='relu'))\n",
    "model3.add(layers.Dense(5,activation= 'softmax'))"
   ]
  },
  {
   "cell_type": "code",
   "execution_count": null,
   "metadata": {},
   "outputs": [],
   "source": [
    "model3.compile(optimizer='adam',loss='categorical_crossentropy',metrics = ['accuracy'])"
   ]
  },
  {
   "cell_type": "code",
   "execution_count": null,
   "metadata": {},
   "outputs": [],
   "source": [
    "model3.fit(trianimg,trainlb_race,epochs=10,batch_size=50,shuffle =True, verbose = True)"
   ]
  },
  {
   "cell_type": "code",
   "execution_count": null,
   "metadata": {},
   "outputs": [],
   "source": [
    "model3.save(\"racemodel.h5\")"
   ]
  },
  {
   "cell_type": "code",
   "execution_count": null,
   "metadata": {},
   "outputs": [],
   "source": [
    "label1=['male','female']\n",
    "label2=['White', 'Black', 'Asian', 'Indian','Hispanic']"
   ]
  },
  {
   "cell_type": "code",
   "execution_count": null,
   "metadata": {},
   "outputs": [],
   "source": [
    "from keras import models"
   ]
  },
  {
   "cell_type": "code",
   "execution_count": null,
   "metadata": {},
   "outputs": [],
   "source": [
    "model = models.load_model(\"agemodel.h5\")"
   ]
  },
  {
   "cell_type": "code",
   "execution_count": null,
   "metadata": {},
   "outputs": [],
   "source": [
    "model2 = models.load_model(\"gendermodel.h5\")"
   ]
  },
  {
   "cell_type": "code",
   "execution_count": null,
   "metadata": {},
   "outputs": [],
   "source": [
    "model3 = models.load_model(\"racemodel.h5\")"
   ]
  },
  {
   "cell_type": "code",
   "execution_count": null,
   "metadata": {},
   "outputs": [],
   "source": [
    "def get_face2(img):\n",
    "    corners = fd.detectMultiScale(img,1.3,4)\n",
    "    if len(corners)==0:\n",
    "        return None,None \n",
    "    else:\n",
    "        (x,y,w,h)= corners[0]\n",
    "        img = img[x:x+h,y:y+w]   # cropping the image and resize them,\n",
    "        img = cv2.resize(img,(100,100))\n",
    "        return (x,y,w,h),img"
   ]
  },
  {
   "cell_type": "code",
   "execution_count": null,
   "metadata": {
    "scrolled": true
   },
   "outputs": [],
   "source": [
    "vid=cv2.VideoCapture(0)\n",
    "while True:\n",
    "    ret,img = vid.read()\n",
    "    print(ret)\n",
    "        #img2=cv2.cvtColor(img, cv2.COLOR_BGR2GRAY)\n",
    "    corner,img2=get_face2(img)\n",
    "    if corner !=None:\n",
    "        age_out= model.predict(img2.reshape(1,100,100,3))\n",
    "        gender_out= model2.predict_classes(img2.reshape(1,100,100,3))\n",
    "        race_out= model3.predict_classes(img2.reshape(1,100,100,3))\n",
    "        #emotion=labels[output[0]]\n",
    "        text = str(age_out[0][0])+' '+label1[gender_out[0][0]]+' '+label2[race_out[0]]\n",
    "        (x,y,w,h) = corner\n",
    "        cv2.putText(img,text,(x,y),cv2.FONT_HERSHEY_COMPLEX,1.0,(0,0,255),2)\n",
    "        cv2.rectangle(img,(x,y),(x+w,y+h),(0,0,255),3)\n",
    "        cv2.imshow('img',img)\n",
    "    if cv2.waitKey(1) & 0xFF==ord('q'):\n",
    "        break\n",
    "vid.release()\n",
    "cv2.destroyAllWindows()"
   ]
  },
  {
   "cell_type": "code",
   "execution_count": null,
   "metadata": {},
   "outputs": [],
   "source": [
    "race_out[0]"
   ]
  },
  {
   "cell_type": "code",
   "execution_count": null,
   "metadata": {},
   "outputs": [],
   "source": [
    "vid.release()"
   ]
  },
  {
   "cell_type": "code",
   "execution_count": null,
   "metadata": {},
   "outputs": [],
   "source": [
    "model.summary()"
   ]
  },
  {
   "cell_type": "code",
   "execution_count": null,
   "metadata": {},
   "outputs": [],
   "source": [
    "def get_cosmetics(dender,race)\n",
    "    if gender==\"male\" and race==\"white\":\n",
    "        return \"product1\"\n",
    "    elif gender==\"female\" and race==\"white\":\n",
    "        return \"product2\"\n",
    "    if gender==\"male\" and race==\"Black\":\n",
    "         return \"product3\"\n",
    "    elif gender==\"female\" and race==\"Black\":\n",
    "        return \"product4\""
   ]
  }
 ],
 "metadata": {
  "kernelspec": {
   "display_name": "Python 3",
   "language": "python",
   "name": "python3"
  },
  "language_info": {
   "codemirror_mode": {
    "name": "ipython",
    "version": 3
   },
   "file_extension": ".py",
   "mimetype": "text/x-python",
   "name": "python",
   "nbconvert_exporter": "python",
   "pygments_lexer": "ipython3",
   "version": "3.7.0"
  }
 },
 "nbformat": 4,
 "nbformat_minor": 2
}
